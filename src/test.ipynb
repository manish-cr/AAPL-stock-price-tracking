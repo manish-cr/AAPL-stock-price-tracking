{
 "cells": [
  {
   "cell_type": "markdown",
   "metadata": {},
   "source": [
    "## Test time"
   ]
  },
  {
   "cell_type": "code",
   "execution_count": 2,
   "metadata": {},
   "outputs": [
    {
     "name": "stderr",
     "output_type": "stream",
     "text": [
      "/home/manish/.local/lib/python3.12/site-packages/tqdm/auto.py:21: TqdmWarning: IProgress not found. Please update jupyter and ipywidgets. See https://ipywidgets.readthedocs.io/en/stable/user_install.html\n",
      "  from .autonotebook import tqdm as notebook_tqdm\n"
     ]
    },
    {
     "name": "stdout",
     "output_type": "stream",
     "text": [
      "Current working directory: /home/manish/Documents/NUS stuff/Data Science Practice/machine learning/Alpaca Project/src\n"
     ]
    }
   ],
   "source": [
    "import requests\n",
    "from datetime import datetime, timedelta\n",
    "import pandas as pd\n",
    "import matplotlib.pyplot as plt\n",
    "from darts import TimeSeries\n",
    "from darts.models import NaiveMovingAverage\n",
    "from darts.models.filtering.moving_average_filter import MovingAverageFilter\n",
    "from darts.utils.missing_values import fill_missing_values\n",
    "from dotenv import load_dotenv\n",
    "import os\n",
    "import numpy as np\n",
    "\n",
    "# Change working directory to the 'src' folder\n",
    "# os.chdir(os.path.join(os.getcwd(), 'src'))\n",
    "\n",
    "# Verify the current working directory\n",
    "print(f\"Current working directory: {os.getcwd()}\")\n",
    "\n",
    "# Load .env file\n",
    "env_path = '../config/.env'\n",
    "load_dotenv(env_path)\n",
    "API_KEY_ID = os.getenv('API_KEY')\n",
    "API_SECRET_KEY = os.getenv('SECRET_KEY')\n",
    "\n",
    "# Alpaca API base URL\n",
    "BASE_URL = \"https://data.alpaca.markets/v2\"\n",
    "\n",
    "# Endpoint for historical stock data\n",
    "ENDPOINT = \"/stocks/trades\""
   ]
  },
  {
   "cell_type": "code",
   "execution_count": 3,
   "metadata": {},
   "outputs": [],
   "source": [
    "# Headers for authentication\n",
    "headers = {\n",
    "    \"APCA-API-KEY-ID\": API_KEY_ID,\n",
    "    \"APCA-API-SECRET-KEY\": API_SECRET_KEY,\n",
    "}"
   ]
  },
  {
   "cell_type": "code",
   "execution_count": 4,
   "metadata": {},
   "outputs": [
    {
     "name": "stdout",
     "output_type": "stream",
     "text": [
      "2025-03-29 20:17:51.329270\n",
      "2025-03-28 20:17:51.329270\n"
     ]
    }
   ],
   "source": [
    "end_time = datetime.now() - timedelta(days = 2)\n",
    "print(end_time)\n",
    "start_time = end_time - timedelta(days=1)\n",
    "print(start_time)"
   ]
  },
  {
   "cell_type": "code",
   "execution_count": 5,
   "metadata": {},
   "outputs": [],
   "source": [
    "def fetch_all_trades(symbol, start, end):\n",
    "    \"\"\"Fetch all trades with pagination handling\"\"\"\n",
    "    all_trades = []\n",
    "    params = {\n",
    "        \"symbols\": symbol,\n",
    "        \"start\": start.isoformat() + \"Z\",\n",
    "        \"end\": end.isoformat() + \"Z\",\n",
    "        \"limit\": 10000,\n",
    "        \"feed\": \"sip\",\n",
    "        \"sort\": \"asc\"\n",
    "    }\n",
    "    \n",
    "    while True:\n",
    "        response = requests.get(BASE_URL + ENDPOINT, headers=headers, params=params)\n",
    "        if response.status_code != 200:\n",
    "            print(f\"Error fetching data: {response.status_code} - {response.text}\")\n",
    "            break\n",
    "            \n",
    "        data = response.json()\n",
    "        all_trades.extend(data[\"trades\"][symbol])\n",
    "        \n",
    "        # Check for more pages\n",
    "        if \"next_page_token\" in data and data[\"next_page_token\"]:\n",
    "            params[\"page_token\"] = data[\"next_page_token\"]\n",
    "        else:\n",
    "            break\n",
    "            \n",
    "    return all_trades"
   ]
  },
  {
   "cell_type": "code",
   "execution_count": 6,
   "metadata": {},
   "outputs": [
    {
     "name": "stdout",
     "output_type": "stream",
     "text": [
      "Fetching trade data...\n",
      "Fetched 3527 trades\n"
     ]
    }
   ],
   "source": [
    "# Fetch all trades\n",
    "print(\"Fetching trade data...\")\n",
    "all_trades = fetch_all_trades(\"AAPL\", start_time, end_time)\n",
    "print(f\"Fetched {len(all_trades)} trades\")"
   ]
  },
  {
   "cell_type": "code",
   "execution_count": 7,
   "metadata": {},
   "outputs": [],
   "source": [
    "# Process into DataFrame\n",
    "df = pd.DataFrame([{\n",
    "    \"Timestamp\": pd.to_datetime(trade[\"t\"]).tz_localize(None),\n",
    "    \"Price\": trade[\"p\"],\n",
    "    \"Size\": trade[\"s\"],\n",
    "    \"Conditions\": \",\".join(trade[\"c\"])\n",
    "} for trade in all_trades])\n",
    "\n",
    "# Sort by timestamp\n",
    "df = df.sort_values(\"Timestamp\").reset_index(drop=True)\n",
    "#-----------"
   ]
  },
  {
   "cell_type": "code",
   "execution_count": 8,
   "metadata": {},
   "outputs": [
    {
     "data": {
      "text/html": [
       "<div>\n",
       "<style scoped>\n",
       "    .dataframe tbody tr th:only-of-type {\n",
       "        vertical-align: middle;\n",
       "    }\n",
       "\n",
       "    .dataframe tbody tr th {\n",
       "        vertical-align: top;\n",
       "    }\n",
       "\n",
       "    .dataframe thead th {\n",
       "        text-align: right;\n",
       "    }\n",
       "</style>\n",
       "<table border=\"1\" class=\"dataframe\">\n",
       "  <thead>\n",
       "    <tr style=\"text-align: right;\">\n",
       "      <th></th>\n",
       "      <th>Timestamp</th>\n",
       "      <th>Price</th>\n",
       "      <th>Size</th>\n",
       "      <th>Conditions</th>\n",
       "    </tr>\n",
       "  </thead>\n",
       "  <tbody>\n",
       "    <tr>\n",
       "      <th>0</th>\n",
       "      <td>2025-03-28 20:17:52.859376845</td>\n",
       "      <td>217.74</td>\n",
       "      <td>18</td>\n",
       "      <td>@,F,T,I</td>\n",
       "    </tr>\n",
       "    <tr>\n",
       "      <th>1</th>\n",
       "      <td>2025-03-28 20:17:52.860489877</td>\n",
       "      <td>217.74</td>\n",
       "      <td>18</td>\n",
       "      <td>@,F,T,I</td>\n",
       "    </tr>\n",
       "    <tr>\n",
       "      <th>2</th>\n",
       "      <td>2025-03-28 20:17:52.862162681</td>\n",
       "      <td>217.74</td>\n",
       "      <td>18</td>\n",
       "      <td>@,F,T,I</td>\n",
       "    </tr>\n",
       "    <tr>\n",
       "      <th>3</th>\n",
       "      <td>2025-03-28 20:17:52.889257421</td>\n",
       "      <td>217.74</td>\n",
       "      <td>18</td>\n",
       "      <td>@,F,T,I</td>\n",
       "    </tr>\n",
       "    <tr>\n",
       "      <th>4</th>\n",
       "      <td>2025-03-28 20:17:52.889558333</td>\n",
       "      <td>217.74</td>\n",
       "      <td>36</td>\n",
       "      <td>@,F,T,I</td>\n",
       "    </tr>\n",
       "  </tbody>\n",
       "</table>\n",
       "</div>"
      ],
      "text/plain": [
       "                      Timestamp   Price  Size Conditions\n",
       "0 2025-03-28 20:17:52.859376845  217.74    18    @,F,T,I\n",
       "1 2025-03-28 20:17:52.860489877  217.74    18    @,F,T,I\n",
       "2 2025-03-28 20:17:52.862162681  217.74    18    @,F,T,I\n",
       "3 2025-03-28 20:17:52.889257421  217.74    18    @,F,T,I\n",
       "4 2025-03-28 20:17:52.889558333  217.74    36    @,F,T,I"
      ]
     },
     "execution_count": 8,
     "metadata": {},
     "output_type": "execute_result"
    }
   ],
   "source": [
    "df.head()"
   ]
  },
  {
   "cell_type": "code",
   "execution_count": 9,
   "metadata": {},
   "outputs": [
    {
     "data": {
      "text/plain": [
       "3527"
      ]
     },
     "execution_count": 9,
     "metadata": {},
     "output_type": "execute_result"
    }
   ],
   "source": [
    "df.shape[0]"
   ]
  },
  {
   "cell_type": "code",
   "execution_count": 10,
   "metadata": {},
   "outputs": [],
   "source": [
    "# Resample liquidity by 30-minute windows\n",
    "liquidity = df.set_index('Timestamp').resample('30T').agg({\n",
    "    'Price': 'count',  # Trade frequency\n",
    "    'Size': 'sum'      # Total volume\n",
    "})"
   ]
  },
  {
   "cell_type": "code",
   "execution_count": 11,
   "metadata": {},
   "outputs": [
    {
     "data": {
      "text/html": [
       "<div>\n",
       "<style scoped>\n",
       "    .dataframe tbody tr th:only-of-type {\n",
       "        vertical-align: middle;\n",
       "    }\n",
       "\n",
       "    .dataframe tbody tr th {\n",
       "        vertical-align: top;\n",
       "    }\n",
       "\n",
       "    .dataframe thead th {\n",
       "        text-align: right;\n",
       "    }\n",
       "</style>\n",
       "<table border=\"1\" class=\"dataframe\">\n",
       "  <thead>\n",
       "    <tr style=\"text-align: right;\">\n",
       "      <th></th>\n",
       "      <th>Price</th>\n",
       "      <th>Size</th>\n",
       "    </tr>\n",
       "    <tr>\n",
       "      <th>Timestamp</th>\n",
       "      <th></th>\n",
       "      <th></th>\n",
       "    </tr>\n",
       "  </thead>\n",
       "  <tbody>\n",
       "    <tr>\n",
       "      <th>2025-03-28 20:00:00</th>\n",
       "      <td>554</td>\n",
       "      <td>60432</td>\n",
       "    </tr>\n",
       "    <tr>\n",
       "      <th>2025-03-28 20:30:00</th>\n",
       "      <td>844</td>\n",
       "      <td>129921</td>\n",
       "    </tr>\n",
       "    <tr>\n",
       "      <th>2025-03-28 21:00:00</th>\n",
       "      <td>392</td>\n",
       "      <td>14201</td>\n",
       "    </tr>\n",
       "    <tr>\n",
       "      <th>2025-03-28 21:30:00</th>\n",
       "      <td>546</td>\n",
       "      <td>10554</td>\n",
       "    </tr>\n",
       "    <tr>\n",
       "      <th>2025-03-28 22:00:00</th>\n",
       "      <td>292</td>\n",
       "      <td>12679</td>\n",
       "    </tr>\n",
       "  </tbody>\n",
       "</table>\n",
       "</div>"
      ],
      "text/plain": [
       "                     Price    Size\n",
       "Timestamp                         \n",
       "2025-03-28 20:00:00    554   60432\n",
       "2025-03-28 20:30:00    844  129921\n",
       "2025-03-28 21:00:00    392   14201\n",
       "2025-03-28 21:30:00    546   10554\n",
       "2025-03-28 22:00:00    292   12679"
      ]
     },
     "execution_count": 11,
     "metadata": {},
     "output_type": "execute_result"
    }
   ],
   "source": [
    "liquidity.head()"
   ]
  },
  {
   "cell_type": "code",
   "execution_count": 12,
   "metadata": {},
   "outputs": [
    {
     "data": {
      "image/png": "[encoded data removed]",
      "text/plain": [
       "<Figure size 1200x600 with 1 Axes>"
      ]
     },
     "metadata": {},
     "output_type": "display_data"
    }
   ],
   "source": [
    "# --- Plotting ---\n",
    "plt.figure(figsize=(12, 6))  # Set figure size\n",
    "\n",
    "# Plot price vs. time\n",
    "plt.plot(df[\"Timestamp\"], df[\"Price\"], \n",
    "         linestyle='-', \n",
    "         linewidth=1, \n",
    "         color='blue',\n",
    "         label='AAPL Trade Prices')\n",
    "\n",
    "# Customize the plot\n",
    "plt.title(\"AAPL Trade Prices Over Time\", fontsize=14)\n",
    "plt.xlabel(\"Timestamp\", fontsize=12)\n",
    "plt.ylabel(\"Price ($)\", fontsize=12)\n",
    "plt.grid(True, linestyle='--', alpha=0.6)  # Add gridlines\n",
    "\n",
    "# Rotate x-axis labels for better readability\n",
    "plt.xticks(rotation=45)\n",
    "\n",
    "# Add legend\n",
    "plt.legend()\n",
    "\n",
    "# Show the plot\n",
    "plt.tight_layout()  # Prevent label cutoff\n",
    "plt.show()"
   ]
  },
  {
   "cell_type": "code",
   "execution_count": 13,
   "metadata": {},
   "outputs": [
    {
     "data": {
      "image/png": "[encoded data removed]",
      "text/plain": [
       "<Figure size 800x575 with 2 Axes>"
      ]
     },
     "metadata": {},
     "output_type": "display_data"
    }
   ],
   "source": [
    "import mplfinance as mpf\n",
    "\n",
    "# Resample to OHLC (e.g., 1-minute intervals)\n",
    "ohlc = df.set_index('Timestamp').resample('1T').agg({\n",
    "    'Price': ['first', 'max', 'min', 'last']\n",
    "})\n",
    "ohlc.columns = ['Open', 'High', 'Low', 'Close']\n",
    "\n",
    "# Plot candlesticks\n",
    "mpf.plot(ohlc, type='candle', style='charles', title='AAPL Candlesticks')"
   ]
  },
  {
   "cell_type": "code",
   "execution_count": 14,
   "metadata": {},
   "outputs": [
    {
     "data": {
      "text/html": [
       "<div>\n",
       "<style scoped>\n",
       "    .dataframe tbody tr th:only-of-type {\n",
       "        vertical-align: middle;\n",
       "    }\n",
       "\n",
       "    .dataframe tbody tr th {\n",
       "        vertical-align: top;\n",
       "    }\n",
       "\n",
       "    .dataframe thead th {\n",
       "        text-align: right;\n",
       "    }\n",
       "</style>\n",
       "<table border=\"1\" class=\"dataframe\">\n",
       "  <thead>\n",
       "    <tr style=\"text-align: right;\">\n",
       "      <th></th>\n",
       "      <th>Open</th>\n",
       "      <th>High</th>\n",
       "      <th>Low</th>\n",
       "      <th>Close</th>\n",
       "    </tr>\n",
       "    <tr>\n",
       "      <th>Timestamp</th>\n",
       "      <th></th>\n",
       "      <th></th>\n",
       "      <th></th>\n",
       "      <th></th>\n",
       "    </tr>\n",
       "  </thead>\n",
       "  <tbody>\n",
       "    <tr>\n",
       "      <th>2025-03-28 20:17:00</th>\n",
       "      <td>217.74</td>\n",
       "      <td>217.78</td>\n",
       "      <td>217.7100</td>\n",
       "      <td>217.7400</td>\n",
       "    </tr>\n",
       "    <tr>\n",
       "      <th>2025-03-28 20:18:00</th>\n",
       "      <td>217.75</td>\n",
       "      <td>217.75</td>\n",
       "      <td>217.4500</td>\n",
       "      <td>217.5880</td>\n",
       "    </tr>\n",
       "    <tr>\n",
       "      <th>2025-03-28 20:19:00</th>\n",
       "      <td>217.59</td>\n",
       "      <td>217.63</td>\n",
       "      <td>217.4057</td>\n",
       "      <td>217.6300</td>\n",
       "    </tr>\n",
       "    <tr>\n",
       "      <th>2025-03-28 20:20:00</th>\n",
       "      <td>217.90</td>\n",
       "      <td>217.90</td>\n",
       "      <td>217.5501</td>\n",
       "      <td>217.5501</td>\n",
       "    </tr>\n",
       "    <tr>\n",
       "      <th>2025-03-28 20:21:00</th>\n",
       "      <td>217.55</td>\n",
       "      <td>217.67</td>\n",
       "      <td>217.5500</td>\n",
       "      <td>217.6200</td>\n",
       "    </tr>\n",
       "  </tbody>\n",
       "</table>\n",
       "</div>"
      ],
      "text/plain": [
       "                       Open    High       Low     Close\n",
       "Timestamp                                              \n",
       "2025-03-28 20:17:00  217.74  217.78  217.7100  217.7400\n",
       "2025-03-28 20:18:00  217.75  217.75  217.4500  217.5880\n",
       "2025-03-28 20:19:00  217.59  217.63  217.4057  217.6300\n",
       "2025-03-28 20:20:00  217.90  217.90  217.5501  217.5501\n",
       "2025-03-28 20:21:00  217.55  217.67  217.5500  217.6200"
      ]
     },
     "execution_count": 14,
     "metadata": {},
     "output_type": "execute_result"
    }
   ],
   "source": [
    "ohlc.head()"
   ]
  },
  {
   "cell_type": "code",
   "execution_count": 15,
   "metadata": {},
   "outputs": [],
   "source": [
    "# True Range (Volatility Measure)\n",
    "ohlc['TR'] = np.maximum(\n",
    "    ohlc['High'] - ohlc['Low'],\n",
    "    np.maximum(abs(ohlc['High'] - ohlc['Close'].shift()), \n",
    "               abs(ohlc['Low'] - ohlc['Close'].shift()))\n",
    ")\n",
    "\n",
    "# Donchian Channels (20-minute window)\n",
    "window = 20\n",
    "ohlc['Donchian_High'] = ohlc['High'].rolling(window).max()\n",
    "ohlc['Donchian_Low'] = ohlc['Low'].rolling(window).min()\n",
    "\n",
    "# Heikin-Ashi Smoothed Candles (trend filtering)\n",
    "ohlc['HA_Close'] = (ohlc['Open'] + ohlc['High'] + ohlc['Low'] + ohlc['Close']) / 4\n",
    "ohlc['HA_Open'] = (ohlc['Open'].shift() + ohlc['Close'].shift()) / 2"
   ]
  },
  {
   "cell_type": "code",
   "execution_count": 16,
   "metadata": {},
   "outputs": [],
   "source": [
    "# Merge volume from raw trades\n",
    "volume = df.set_index('Timestamp').resample('1T')['Size'].sum()\n",
    "ohlc = ohlc.merge(volume.rename('Volume'), left_index=True, right_index=True)\n",
    "\n",
    "# Volume-Weighted Metrics\n",
    "ohlc['VWAP'] = (ohlc['Close'] * ohlc['Volume']).cumsum() / ohlc['Volume'].cumsum()\n",
    "ohlc['Volume_Spike'] = ohlc['Volume'] / ohlc['Volume'].rolling(20).mean()\n",
    "\n",
    "# Price-Volume Divergence\n",
    "ohlc['PVT'] = (ohlc['Close'].pct_change() * ohlc['Volume']).cumsum()"
   ]
  },
  {
   "cell_type": "code",
   "execution_count": 17,
   "metadata": {},
   "outputs": [],
   "source": [
    "# Tick-Level Imbalance\n",
    "df['Imbalance'] = np.where(df['Price'] > df['Price'].shift(), df['Size'], \n",
    "                          -df['Size'])\n",
    "ohlc['Imbalance_1min'] = df.set_index('Timestamp').resample('1T')['Imbalance'].sum()\n",
    "\n",
    "# Large Trade Detection\n",
    "block_threshold = df['Size'].quantile(0.95)\n",
    "ohlc['Block_Trades'] = df[df['Size'] > block_threshold].set_index('Timestamp').resample('1T')['Size'].count()"
   ]
  },
  {
   "cell_type": "code",
   "execution_count": 18,
   "metadata": {},
   "outputs": [],
   "source": [
    "# Engulfing Patterns (requires 2 candles)\n",
    "ohlc['Bullish_Engulfing'] = (\n",
    "    (ohlc['Close'] > ohlc['Open']) & \n",
    "    (ohlc['Close'].shift() < ohlc['Open'].shift()) &\n",
    "    (ohlc['Close'] > ohlc['Open'].shift()) &\n",
    "    (ohlc['Open'] < ohlc['Close'].shift())\n",
    ").astype(int)\n",
    "\n",
    "# Doji Detection (indecision)\n",
    "ohlc['Doji'] = (abs(ohlc['Open'] - ohlc['Close']) / \n",
    "                (ohlc['High'] - ohlc['Low'] + 1e-9) < 0.1).astype(int)"
   ]
  },
  {
   "cell_type": "code",
   "execution_count": 23,
   "metadata": {},
   "outputs": [
    {
     "data": {
      "application/vnd.plotly.v1+json": {
       "config": {
        "plotlyServerURL": "https://plot.ly"
       },
       "data": [
        {
         "close": {
          "bdata": "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",
          "dtype": "f8"
         },
         "decreasing": {
          "line": {
           "color": "red"
          }
         },
         "high": {
          "bdata": "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",
          "dtype": "f8"
         },
         "increasing": {
          "line": {
           "color": "green"
          }
         },
         "low": {
          "bdata": "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",
          "dtype": "f8"
         },
         "name": "AAPL",
         "open": {
          "bdata": "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",
          "dtype": "f8"
         },
         "type": "candlestick",
         "x": [
          "2025-03-28T20:17:00",
          "2025-03-28T20:18:00",
          "2025-03-28T20:19:00",
          "2025-03-28T20:20:00",
          "2025-03-28T20:21:00",
          "2025-03-28T20:22:00",
          "2025-03-28T20:23:00",
          "2025-03-28T20:24:00",
          "2025-03-28T20:25:00",
          "2025-03-28T20:26:00",
          "2025-03-28T20:27:00",
          "2025-03-28T20:28:00",
          "2025-03-28T20:29:00",
          "2025-03-28T20:30:00",
          "2025-03-28T20:31:00",
          "2025-03-28T20:32:00",
          "2025-03-28T20:33:00",
          "2025-03-28T20:34:00",
          "2025-03-28T20:35:00",
          "2025-03-28T20:36:00",
          "2025-03-28T20:37:00",
          "2025-03-28T20:38:00",
          "2025-03-28T20:39:00",
          "2025-03-28T20:40:00",
          "2025-03-28T20:41:00",
          "2025-03-28T20:42:00",
          "2025-03-28T20:43:00",
          "2025-03-28T20:44:00",
          "2025-03-28T20:45:00",
          "2025-03-28T20:46:00",
          "2025-03-28T20:47:00",
          "2025-03-28T20:48:00",
          "2025-03-28T20:49:00",
          "2025-03-28T20:50:00",
          "2025-03-28T20:51:00",
          "2025-03-28T20:52:00",
          "2025-03-28T20:53:00",
          "2025-03-28T20:54:00",
          "2025-03-28T20:55:00",
          "2025-03-28T20:56:00",
          "2025-03-28T20:57:00",
          "2025-03-28T20:58:00",
          "2025-03-28T20:59:00",
          "2025-03-28T21:00:00",
          "2025-03-28T21:01:00",
          "2025-03-28T21:02:00",
          "2025-03-28T21:03:00",
          "2025-03-28T21:04:00",
          "2025-03-28T21:05:00",
          "2025-03-28T21:06:00",
          "2025-03-28T21:07:00",
          "2025-03-28T21:08:00",
          "2025-03-28T21:09:00",
          "2025-03-28T21:10:00",
          "2025-03-28T21:11:00",
          "2025-03-28T21:12:00",
          "2025-03-28T21:13:00",
          "2025-03-28T21:14:00",
          "2025-03-28T21:15:00",
          "2025-03-28T21:16:00",
          "2025-03-28T21:17:00",
          "2025-03-28T21:18:00",
          "2025-03-28T21:19:00",
          "2025-03-28T21:20:00",
          "2025-03-28T21:21:00",
          "2025-03-28T21:22:00",
          "2025-03-28T21:23:00",
          "2025-03-28T21:24:00",
          "2025-03-28T21:25:00",
          "2025-03-28T21:26:00",
          "2025-03-28T21:27:00",
          "2025-03-28T21:28:00",
          "2025-03-28T21:29:00",
          "2025-03-28T21:30:00",
          "2025-03-28T21:31:00",
          "2025-03-28T21:32:00",
          "2025-03-28T21:33:00",
          "2025-03-28T21:34:00",
          "2025-03-28T21:35:00",
          "2025-03-28T21:36:00",
          "2025-03-28T21:37:00",
          "2025-03-28T21:38:00",
          "2025-03-28T21:39:00",
          "2025-03-28T21:40:00",
          "2025-03-28T21:41:00",
          "2025-03-28T21:42:00",
          "2025-03-28T21:43:00",
          "2025-03-28T21:44:00",
          "2025-03-28T21:45:00",
          "2025-03-28T21:46:00",
          "2025-03-28T21:47:00",
          "2025-03-28T21:48:00",
          "2025-03-28T21:49:00",
          "2025-03-28T21:50:00",
          "2025-03-28T21:51:00",
          "2025-03-28T21:52:00",
          "2025-03-28T21:53:00",
          "2025-03-28T21:54:00",
          "2025-03-28T21:55:00",
          "2025-03-28T21:56:00",
          "2025-03-28T21:57:00",
          "2025-03-28T21:58:00",
          "2025-03-28T21:59:00",
          "2025-03-28T22:00:00",
          "2025-03-28T22:01:00",
          "2025-03-28T22:02:00",
          "2025-03-28T22:03:00",
          "2025-03-28T22:04:00",
          "2025-03-28T22:05:00",
          "2025-03-28T22:06:00",
          "2025-03-28T22:07:00",
          "2025-03-28T22:08:00",
          "2025-03-28T22:09:00",
          "2025-03-28T22:10:00",
          "2025-03-28T22:11:00",
          "2025-03-28T22:12:00",
          "2025-03-28T22:13:00",
          "2025-03-28T22:14:00",
          "2025-03-28T22:15:00",
          "2025-03-28T22:16:00",
          "2025-03-28T22:17:00",
          "2025-03-28T22:18:00",
          "2025-03-28T22:19:00",
          "2025-03-28T22:20:00",
          "2025-03-28T22:21:00",
          "2025-03-28T22:22:00",
          "2025-03-28T22:23:00",
          "2025-03-28T22:24:00",
          "2025-03-28T22:25:00",
          "2025-03-28T22:26:00",
          "2025-03-28T22:27:00",
          "2025-03-28T22:28:00",
          "2025-03-28T22:29:00",
          "2025-03-28T22:30:00",
          "2025-03-28T22:31:00",
          "2025-03-28T22:32:00",
          "2025-03-28T22:33:00",
          "2025-03-28T22:34:00",
          "2025-03-28T22:35:00",
          "2025-03-28T22:36:00",
          "2025-03-28T22:37:00",
          "2025-03-28T22:38:00",
          "2025-03-28T22:39:00",
          "2025-03-28T22:40:00",
          "2025-03-28T22:41:00",
          "2025-03-28T22:42:00",
          "2025-03-28T22:43:00",
          "2025-03-28T22:44:00",
          "2025-03-28T22:45:00",
          "2025-03-28T22:46:00",
          "2025-03-28T22:47:00",
          "2025-03-28T22:48:00",
          "2025-03-28T22:49:00",
          "2025-03-28T22:50:00",
          "2025-03-28T22:51:00",
          "2025-03-28T22:52:00",
          "2025-03-28T22:53:00",
          "2025-03-28T22:54:00",
          "2025-03-28T22:55:00",
          "2025-03-28T22:56:00",
          "2025-03-28T22:57:00",
          "2025-03-28T22:58:00",
          "2025-03-28T22:59:00",
          "2025-03-28T23:00:00",
          "2025-03-28T23:01:00",
          "2025-03-28T23:02:00",
          "2025-03-28T23:03:00",
          "2025-03-28T23:04:00",
          "2025-03-28T23:05:00",
          "2025-03-28T23:06:00",
          "2025-03-28T23:07:00",
          "2025-03-28T23:08:00",
          "2025-03-28T23:09:00",
          "2025-03-28T23:10:00",
          "2025-03-28T23:11:00",
          "2025-03-28T23:12:00",
          "2025-03-28T23:13:00",
          "2025-03-28T23:14:00",
          "2025-03-28T23:15:00",
          "2025-03-28T23:16:00",
          "2025-03-28T23:17:00",
          "2025-03-28T23:18:00",
          "2025-03-28T23:19:00",
          "2025-03-28T23:20:00",
          "2025-03-28T23:21:00",
          "2025-03-28T23:22:00",
          "2025-03-28T23:23:00",
          "2025-03-28T23:24:00",
          "2025-03-28T23:25:00",
          "2025-03-28T23:26:00",
          "2025-03-28T23:27:00",
          "2025-03-28T23:28:00",
          "2025-03-28T23:29:00",
          "2025-03-28T23:30:00",
          "2025-03-28T23:31:00",
          "2025-03-28T23:32:00",
          "2025-03-28T23:33:00",
          "2025-03-28T23:34:00",
          "2025-03-28T23:35:00",
          "2025-03-28T23:36:00",
          "2025-03-28T23:37:00",
          "2025-03-28T23:38:00",
          "2025-03-28T23:39:00",
          "2025-03-28T23:40:00",
          "2025-03-28T23:41:00",
          "2025-03-28T23:42:00",
          "2025-03-28T23:43:00",
          "2025-03-28T23:44:00",
          "2025-03-28T23:45:00",
          "2025-03-28T23:46:00",
          "2025-03-28T23:47:00",
          "2025-03-28T23:48:00",
          "2025-03-28T23:49:00",
          "2025-03-28T23:50:00",
          "2025-03-28T23:51:00",
          "2025-03-28T23:52:00",
          "2025-03-28T23:53:00",
          "2025-03-28T23:54:00",
          "2025-03-28T23:55:00",
          "2025-03-28T23:56:00",
          "2025-03-28T23:57:00",
          "2025-03-28T23:58:00",
          "2025-03-28T23:59:00"
         ],
         "xaxis": "x",
         "yaxis": "y"
        },
        {
         "line": {
          "color": "cyan",
          "width": 2
         },
         "name": "VWAP",
         "type": "scatter",
         "x": [
          "2025-03-28T20:17:00",
          "2025-03-28T20:18:00",
          "2025-03-28T20:19:00",
          "2025-03-28T20:20:00",
          "2025-03-28T20:21:00",
          "2025-03-28T20:22:00",
          "2025-03-28T20:23:00",
          "2025-03-28T20:24:00",
          "2025-03-28T20:25:00",
          "2025-03-28T20:26:00",
          "2025-03-28T20:27:00",
          "2025-03-28T20:28:00",
          "2025-03-28T20:29:00",
          "2025-03-28T20:30:00",
          "2025-03-28T20:31:00",
          "2025-03-28T20:32:00",
          "2025-03-28T20:33:00",
          "2025-03-28T20:34:00",
          "2025-03-28T20:35:00",
          "2025-03-28T20:36:00",
          "2025-03-28T20:37:00",
          "2025-03-28T20:38:00",
          "2025-03-28T20:39:00",
          "2025-03-28T20:40:00",
          "2025-03-28T20:41:00",
          "2025-03-28T20:42:00",
          "2025-03-28T20:43:00",
          "2025-03-28T20:44:00",
          "2025-03-28T20:45:00",
          "2025-03-28T20:46:00",
          "2025-03-28T20:47:00",
          "2025-03-28T20:48:00",
          "2025-03-28T20:49:00",
          "2025-03-28T20:50:00",
          "2025-03-28T20:51:00",
          "2025-03-28T20:52:00",
          "2025-03-28T20:53:00",
          "2025-03-28T20:54:00",
          "2025-03-28T20:55:00",
          "2025-03-28T20:56:00",
          "2025-03-28T20:57:00",
          "2025-03-28T20:58:00",
          "2025-03-28T20:59:00",
          "2025-03-28T21:00:00",
          "2025-03-28T21:01:00",
          "2025-03-28T21:02:00",
          "2025-03-28T21:03:00",
          "2025-03-28T21:04:00",
          "2025-03-28T21:05:00",
          "2025-03-28T21:06:00",
          "2025-03-28T21:07:00",
          "2025-03-28T21:08:00",
          "2025-03-28T21:09:00",
          "2025-03-28T21:10:00",
          "2025-03-28T21:11:00",
          "2025-03-28T21:12:00",
          "2025-03-28T21:13:00",
          "2025-03-28T21:14:00",
          "2025-03-28T21:15:00",
          "2025-03-28T21:16:00",
          "2025-03-28T21:17:00",
          "2025-03-28T21:18:00",
          "2025-03-28T21:19:00",
          "2025-03-28T21:20:00",
          "2025-03-28T21:21:00",
          "2025-03-28T21:22:00",
          "2025-03-28T21:23:00",
          "2025-03-28T21:24:00",
          "2025-03-28T21:25:00",
          "2025-03-28T21:26:00",
          "2025-03-28T21:27:00",
          "2025-03-28T21:28:00",
          "2025-03-28T21:29:00",
          "2025-03-28T21:30:00",
          "2025-03-28T21:31:00",
          "2025-03-28T21:32:00",
          "2025-03-28T21:33:00",
          "2025-03-28T21:34:00",
          "2025-03-28T21:35:00",
          "2025-03-28T21:36:00",
          "2025-03-28T21:37:00",
          "2025-03-28T21:38:00",
          "2025-03-28T21:39:00",
          "2025-03-28T21:40:00",
          "2025-03-28T21:41:00",
          "2025-03-28T21:42:00",
          "2025-03-28T21:43:00",
          "2025-03-28T21:44:00",
          "2025-03-28T21:45:00",
          "2025-03-28T21:46:00",
          "2025-03-28T21:47:00",
          "2025-03-28T21:48:00",
          "2025-03-28T21:49:00",
          "2025-03-28T21:50:00",
          "2025-03-28T21:51:00",
          "2025-03-28T21:52:00",
          "2025-03-28T21:53:00",
          "2025-03-28T21:54:00",
          "2025-03-28T21:55:00",
          "2025-03-28T21:56:00",
          "2025-03-28T21:57:00",
          "2025-03-28T21:58:00",
          "2025-03-28T21:59:00",
          "2025-03-28T22:00:00",
          "2025-03-28T22:01:00",
          "2025-03-28T22:02:00",
          "2025-03-28T22:03:00",
          "2025-03-28T22:04:00",
          "2025-03-28T22:05:00",
          "2025-03-28T22:06:00",
          "2025-03-28T22:07:00",
          "2025-03-28T22:08:00",
          "2025-03-28T22:09:00",
          "2025-03-28T22:10:00",
          "2025-03-28T22:11:00",
          "2025-03-28T22:12:00",
          "2025-03-28T22:13:00",
          "2025-03-28T22:14:00",
          "2025-03-28T22:15:00",
          "2025-03-28T22:16:00",
          "2025-03-28T22:17:00",
          "2025-03-28T22:18:00",
          "2025-03-28T22:19:00",
          "2025-03-28T22:20:00",
          "2025-03-28T22:21:00",
          "2025-03-28T22:22:00",
          "2025-03-28T22:23:00",
          "2025-03-28T22:24:00",
          "2025-03-28T22:25:00",
          "2025-03-28T22:26:00",
          "2025-03-28T22:27:00",
          "2025-03-28T22:28:00",
          "2025-03-28T22:29:00",
          "2025-03-28T22:30:00",
          "2025-03-28T22:31:00",
          "2025-03-28T22:32:00",
          "2025-03-28T22:33:00",
          "2025-03-28T22:34:00",
          "2025-03-28T22:35:00",
          "2025-03-28T22:36:00",
          "2025-03-28T22:37:00",
          "2025-03-28T22:38:00",
          "2025-03-28T22:39:00",
          "2025-03-28T22:40:00",
          "2025-03-28T22:41:00",
          "2025-03-28T22:42:00",
          "2025-03-28T22:43:00",
          "2025-03-28T22:44:00",
          "2025-03-28T22:45:00",
          "2025-03-28T22:46:00",
          "2025-03-28T22:47:00",
          "2025-03-28T22:48:00",
          "2025-03-28T22:49:00",
          "2025-03-28T22:50:00",
          "2025-03-28T22:51:00",
          "2025-03-28T22:52:00",
          "2025-03-28T22:53:00",
          "2025-03-28T22:54:00",
          "2025-03-28T22:55:00",
          "2025-03-28T22:56:00",
          "2025-03-28T22:57:00",
          "2025-03-28T22:58:00",
          "2025-03-28T22:59:00",
          "2025-03-28T23:00:00",
          "2025-03-28T23:01:00",
          "2025-03-28T23:02:00",
          "2025-03-28T23:03:00",
          "2025-03-28T23:04:00",
          "2025-03-28T23:05:00",
          "2025-03-28T23:06:00",
          "2025-03-28T23:07:00",
          "2025-03-28T23:08:00",
          "2025-03-28T23:09:00",
          "2025-03-28T23:10:00",
          "2025-03-28T23:11:00",
          "2025-03-28T23:12:00",
          "2025-03-28T23:13:00",
          "2025-03-28T23:14:00",
          "2025-03-28T23:15:00",
          "2025-03-28T23:16:00",
          "2025-03-28T23:17:00",
          "2025-03-28T23:18:00",
          "2025-03-28T23:19:00",
          "2025-03-28T23:20:00",
          "2025-03-28T23:21:00",
          "2025-03-28T23:22:00",
          "2025-03-28T23:23:00",
          "2025-03-28T23:24:00",
          "2025-03-28T23:25:00",
          "2025-03-28T23:26:00",
          "2025-03-28T23:27:00",
          "2025-03-28T23:28:00",
          "2025-03-28T23:29:00",
          "2025-03-28T23:30:00",
          "2025-03-28T23:31:00",
          "2025-03-28T23:32:00",
          "2025-03-28T23:33:00",
          "2025-03-28T23:34:00",
          "2025-03-28T23:35:00",
          "2025-03-28T23:36:00",
          "2025-03-28T23:37:00",
          "2025-03-28T23:38:00",
          "2025-03-28T23:39:00",
          "2025-03-28T23:40:00",
          "2025-03-28T23:41:00",
          "2025-03-28T23:42:00",
          "2025-03-28T23:43:00",
          "2025-03-28T23:44:00",
          "2025-03-28T23:45:00",
          "2025-03-28T23:46:00",
          "2025-03-28T23:47:00",
          "2025-03-28T23:48:00",
          "2025-03-28T23:49:00",
          "2025-03-28T23:50:00",
          "2025-03-28T23:51:00",
          "2025-03-28T23:52:00",
          "2025-03-28T23:53:00",
          "2025-03-28T23:54:00",
          "2025-03-28T23:55:00",
          "2025-03-28T23:56:00",
          "2025-03-28T23:57:00",
          "2025-03-28T23:58:00",
          "2025-03-28T23:59:00"
         ],
         "xaxis": "x",
         "y": {
          "bdata": "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",
          "dtype": "f8"
         },
         "yaxis": "y"
        },
        {
         "line": {
          "color": "blue",
          "dash": "dot",
          "width": 1
         },
         "name": "Donchian High",
         "type": "scatter",
         "x": [
          "2025-03-28T20:17:00",
          "2025-03-28T20:18:00",
          "2025-03-28T20:19:00",
          "2025-03-28T20:20:00",
          "2025-03-28T20:21:00",
          "2025-03-28T20:22:00",
          "2025-03-28T20:23:00",
          "2025-03-28T20:24:00",
          "2025-03-28T20:25:00",
          "2025-03-28T20:26:00",
          "2025-03-28T20:27:00",
          "2025-03-28T20:28:00",
          "2025-03-28T20:29:00",
          "2025-03-28T20:30:00",
          "2025-03-28T20:31:00",
          "2025-03-28T20:32:00",
          "2025-03-28T20:33:00",
          "2025-03-28T20:34:00",
          "2025-03-28T20:35:00",
          "2025-03-28T20:36:00",
          "2025-03-28T20:37:00",
          "2025-03-28T20:38:00",
          "2025-03-28T20:39:00",
          "2025-03-28T20:40:00",
          "2025-03-28T20:41:00",
          "2025-03-28T20:42:00",
          "2025-03-28T20:43:00",
          "2025-03-28T20:44:00",
          "2025-03-28T20:45:00",
          "2025-03-28T20:46:00",
          "2025-03-28T20:47:00",
          "2025-03-28T20:48:00",
          "2025-03-28T20:49:00",
          "2025-03-28T20:50:00",
          "2025-03-28T20:51:00",
          "2025-03-28T20:52:00",
          "2025-03-28T20:53:00",
          "2025-03-28T20:54:00",
          "2025-03-28T20:55:00",
          "2025-03-28T20:56:00",
          "2025-03-28T20:57:00",
          "2025-03-28T20:58:00",
          "2025-03-28T20:59:00",
          "2025-03-28T21:00:00",
          "2025-03-28T21:01:00",
          "2025-03-28T21:02:00",
          "2025-03-28T21:03:00",
          "2025-03-28T21:04:00",
          "2025-03-28T21:05:00",
          "2025-03-28T21:06:00",
          "2025-03-28T21:07:00",
          "2025-03-28T21:08:00",
          "2025-03-28T21:09:00",
          "2025-03-28T21:10:00",
          "2025-03-28T21:11:00",
          "2025-03-28T21:12:00",
          "2025-03-28T21:13:00",
          "2025-03-28T21:14:00",
          "2025-03-28T21:15:00",
          "2025-03-28T21:16:00",
          "2025-03-28T21:17:00",
          "2025-03-28T21:18:00",
          "2025-03-28T21:19:00",
          "2025-03-28T21:20:00",
          "2025-03-28T21:21:00",
          "2025-03-28T21:22:00",
          "2025-03-28T21:23:00",
          "2025-03-28T21:24:00",
          "2025-03-28T21:25:00",
          "2025-03-28T21:26:00",
          "2025-03-28T21:27:00",
          "2025-03-28T21:28:00",
          "2025-03-28T21:29:00",
          "2025-03-28T21:30:00",
          "2025-03-28T21:31:00",
          "2025-03-28T21:32:00",
          "2025-03-28T21:33:00",
          "2025-03-28T21:34:00",
          "2025-03-28T21:35:00",
          "2025-03-28T21:36:00",
          "2025-03-28T21:37:00",
          "2025-03-28T21:38:00",
          "2025-03-28T21:39:00",
          "2025-03-28T21:40:00",
          "2025-03-28T21:41:00",
          "2025-03-28T21:42:00",
          "2025-03-28T21:43:00",
          "2025-03-28T21:44:00",
          "2025-03-28T21:45:00",
          "2025-03-28T21:46:00",
          "2025-03-28T21:47:00",
          "2025-03-28T21:48:00",
          "2025-03-28T21:49:00",
          "2025-03-28T21:50:00",
          "2025-03-28T21:51:00",
          "2025-03-28T21:52:00",
          "2025-03-28T21:53:00",
          "2025-03-28T21:54:00",
          "2025-03-28T21:55:00",
          "2025-03-28T21:56:00",
          "2025-03-28T21:57:00",
          "2025-03-28T21:58:00",
          "2025-03-28T21:59:00",
          "2025-03-28T22:00:00",
          "2025-03-28T22:01:00",
          "2025-03-28T22:02:00",
          "2025-03-28T22:03:00",
          "2025-03-28T22:04:00",
          "2025-03-28T22:05:00",
          "2025-03-28T22:06:00",
          "2025-03-28T22:07:00",
          "2025-03-28T22:08:00",
          "2025-03-28T22:09:00",
          "2025-03-28T22:10:00",
          "2025-03-28T22:11:00",
          "2025-03-28T22:12:00",
          "2025-03-28T22:13:00",
          "2025-03-28T22:14:00",
          "2025-03-28T22:15:00",
          "2025-03-28T22:16:00",
          "2025-03-28T22:17:00",
          "2025-03-28T22:18:00",
          "2025-03-28T22:19:00",
          "2025-03-28T22:20:00",
          "2025-03-28T22:21:00",
          "2025-03-28T22:22:00",
          "2025-03-28T22:23:00",
          "2025-03-28T22:24:00",
          "2025-03-28T22:25:00",
          "2025-03-28T22:26:00",
          "2025-03-28T22:27:00",
          "2025-03-28T22:28:00",
          "2025-03-28T22:29:00",
          "2025-03-28T22:30:00",
          "2025-03-28T22:31:00",
          "2025-03-28T22:32:00",
          "2025-03-28T22:33:00",
          "2025-03-28T22:34:00",
          "2025-03-28T22:35:00",
          "2025-03-28T22:36:00",
          "2025-03-28T22:37:00",
          "2025-03-28T22:38:00",
          "2025-03-28T22:39:00",
          "2025-03-28T22:40:00",
          "2025-03-28T22:41:00",
          "2025-03-28T22:42:00",
          "2025-03-28T22:43:00",
          "2025-03-28T22:44:00",
          "2025-03-28T22:45:00",
          "2025-03-28T22:46:00",
          "2025-03-28T22:47:00",
          "2025-03-28T22:48:00",
          "2025-03-28T22:49:00",
          "2025-03-28T22:50:00",
          "2025-03-28T22:51:00",
          "2025-03-28T22:52:00",
          "2025-03-28T22:53:00",
          "2025-03-28T22:54:00",
          "2025-03-28T22:55:00",
          "2025-03-28T22:56:00",
          "2025-03-28T22:57:00",
          "2025-03-28T22:58:00",
          "2025-03-28T22:59:00",
          "2025-03-28T23:00:00",
          "2025-03-28T23:01:00",
          "2025-03-28T23:02:00",
          "2025-03-28T23:03:00",
          "2025-03-28T23:04:00",
          "2025-03-28T23:05:00",
          "2025-03-28T23:06:00",
          "2025-03-28T23:07:00",
          "2025-03-28T23:08:00",
          "2025-03-28T23:09:00",
          "2025-03-28T23:10:00",
          "2025-03-28T23:11:00",
          "2025-03-28T23:12:00",
          "2025-03-28T23:13:00",
          "2025-03-28T23:14:00",
          "2025-03-28T23:15:00",
          "2025-03-28T23:16:00",
          "2025-03-28T23:17:00",
          "2025-03-28T23:18:00",
          "2025-03-28T23:19:00",
          "2025-03-28T23:20:00",
          "2025-03-28T23:21:00",
          "2025-03-28T23:22:00",
          "2025-03-28T23:23:00",
          "2025-03-28T23:24:00",
          "2025-03-28T23:25:00",
          "2025-03-28T23:26:00",
          "2025-03-28T23:27:00",
          "2025-03-28T23:28:00",
          "2025-03-28T23:29:00",
          "2025-03-28T23:30:00",
          "2025-03-28T23:31:00",
          "2025-03-28T23:32:00",
          "2025-03-28T23:33:00",
          "2025-03-28T23:34:00",
          "2025-03-28T23:35:00",
          "2025-03-28T23:36:00",
          "2025-03-28T23:37:00",
          "2025-03-28T23:38:00",
          "2025-03-28T23:39:00",
          "2025-03-28T23:40:00",
          "2025-03-28T23:41:00",
          "2025-03-28T23:42:00",
          "2025-03-28T23:43:00",
          "2025-03-28T23:44:00",
          "2025-03-28T23:45:00",
          "2025-03-28T23:46:00",
          "2025-03-28T23:47:00",
          "2025-03-28T23:48:00",
          "2025-03-28T23:49:00",
          "2025-03-28T23:50:00",
          "2025-03-28T23:51:00",
          "2025-03-28T23:52:00",
          "2025-03-28T23:53:00",
          "2025-03-28T23:54:00",
          "2025-03-28T23:55:00",
          "2025-03-28T23:56:00",
          "2025-03-28T23:57:00",
          "2025-03-28T23:58:00",
          "2025-03-28T23:59:00"
         ],
         "xaxis": "x",
         "y": {
          "bdata": "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",
          "dtype": "f8"
         },
         "yaxis": "y"
        },
        {
         "line": {
          "color": "blue",
          "dash": "dot",
          "width": 1
         },
         "name": "Donchian Low",
         "type": "scatter",
         "x": [
          "2025-03-28T20:17:00",
          "2025-03-28T20:18:00",
          "2025-03-28T20:19:00",
          "2025-03-28T20:20:00",
          "2025-03-28T20:21:00",
          "2025-03-28T20:22:00",
          "2025-03-28T20:23:00",
          "2025-03-28T20:24:00",
          "2025-03-28T20:25:00",
          "2025-03-28T20:26:00",
          "2025-03-28T20:27:00",
          "2025-03-28T20:28:00",
          "2025-03-28T20:29:00",
          "2025-03-28T20:30:00",
          "2025-03-28T20:31:00",
          "2025-03-28T20:32:00",
          "2025-03-28T20:33:00",
          "2025-03-28T20:34:00",
          "2025-03-28T20:35:00",
          "2025-03-28T20:36:00",
          "2025-03-28T20:37:00",
          "2025-03-28T20:38:00",
          "2025-03-28T20:39:00",
          "2025-03-28T20:40:00",
          "2025-03-28T20:41:00",
          "2025-03-28T20:42:00",
          "2025-03-28T20:43:00",
          "2025-03-28T20:44:00",
          "2025-03-28T20:45:00",
          "2025-03-28T20:46:00",
          "2025-03-28T20:47:00",
          "2025-03-28T20:48:00",
          "2025-03-28T20:49:00",
          "2025-03-28T20:50:00",
          "2025-03-28T20:51:00",
          "2025-03-28T20:52:00",
          "2025-03-28T20:53:00",
          "2025-03-28T20:54:00",
          "2025-03-28T20:55:00",
          "2025-03-28T20:56:00",
          "2025-03-28T20:57:00",
          "2025-03-28T20:58:00",
          "2025-03-28T20:59:00",
          "2025-03-28T21:00:00",
          "2025-03-28T21:01:00",
          "2025-03-28T21:02:00",
          "2025-03-28T21:03:00",
          "2025-03-28T21:04:00",
          "2025-03-28T21:05:00",
          "2025-03-28T21:06:00",
          "2025-03-28T21:07:00",
          "2025-03-28T21:08:00",
          "2025-03-28T21:09:00",
          "2025-03-28T21:10:00",
          "2025-03-28T21:11:00",
          "2025-03-28T21:12:00",
          "2025-03-28T21:13:00",
          "2025-03-28T21:14:00",
          "2025-03-28T21:15:00",
          "2025-03-28T21:16:00",
          "2025-03-28T21:17:00",
          "2025-03-28T21:18:00",
          "2025-03-28T21:19:00",
          "2025-03-28T21:20:00",
          "2025-03-28T21:21:00",
          "2025-03-28T21:22:00",
          "2025-03-28T21:23:00",
          "2025-03-28T21:24:00",
          "2025-03-28T21:25:00",
          "2025-03-28T21:26:00",
          "2025-03-28T21:27:00",
          "2025-03-28T21:28:00",
          "2025-03-28T21:29:00",
          "2025-03-28T21:30:00",
          "2025-03-28T21:31:00",
          "2025-03-28T21:32:00",
          "2025-03-28T21:33:00",
          "2025-03-28T21:34:00",
          "2025-03-28T21:35:00",
          "2025-03-28T21:36:00",
          "2025-03-28T21:37:00",
          "2025-03-28T21:38:00",
          "2025-03-28T21:39:00",
          "2025-03-28T21:40:00",
          "2025-03-28T21:41:00",
          "2025-03-28T21:42:00",
          "2025-03-28T21:43:00",
          "2025-03-28T21:44:00",
          "2025-03-28T21:45:00",
          "2025-03-28T21:46:00",
          "2025-03-28T21:47:00",
          "2025-03-28T21:48:00",
          "2025-03-28T21:49:00",
          "2025-03-28T21:50:00",
          "2025-03-28T21:51:00",
          "2025-03-28T21:52:00",
          "2025-03-28T21:53:00",
          "2025-03-28T21:54:00",
          "2025-03-28T21:55:00",
          "2025-03-28T21:56:00",
          "2025-03-28T21:57:00",
          "2025-03-28T21:58:00",
          "2025-03-28T21:59:00",
          "2025-03-28T22:00:00",
          "2025-03-28T22:01:00",
          "2025-03-28T22:02:00",
          "2025-03-28T22:03:00",
          "2025-03-28T22:04:00",
          "2025-03-28T22:05:00",
          "2025-03-28T22:06:00",
          "2025-03-28T22:07:00",
          "2025-03-28T22:08:00",
          "2025-03-28T22:09:00",
          "2025-03-28T22:10:00",
          "2025-03-28T22:11:00",
          "2025-03-28T22:12:00",
          "2025-03-28T22:13:00",
          "2025-03-28T22:14:00",
          "2025-03-28T22:15:00",
          "2025-03-28T22:16:00",
          "2025-03-28T22:17:00",
          "2025-03-28T22:18:00",
          "2025-03-28T22:19:00",
          "2025-03-28T22:20:00",
          "2025-03-28T22:21:00",
          "2025-03-28T22:22:00",
          "2025-03-28T22:23:00",
          "2025-03-28T22:24:00",
          "2025-03-28T22:25:00",
          "2025-03-28T22:26:00",
          "2025-03-28T22:27:00",
          "2025-03-28T22:28:00",
          "2025-03-28T22:29:00",
          "2025-03-28T22:30:00",
          "2025-03-28T22:31:00",
          "2025-03-28T22:32:00",
          "2025-03-28T22:33:00",
          "2025-03-28T22:34:00",
          "2025-03-28T22:35:00",
          "2025-03-28T22:36:00",
          "2025-03-28T22:37:00",
          "2025-03-28T22:38:00",
          "2025-03-28T22:39:00",
          "2025-03-28T22:40:00",
          "2025-03-28T22:41:00",
          "2025-03-28T22:42:00",
          "2025-03-28T22:43:00",
          "2025-03-28T22:44:00",
          "2025-03-28T22:45:00",
          "2025-03-28T22:46:00",
          "2025-03-28T22:47:00",
          "2025-03-28T22:48:00",
          "2025-03-28T22:49:00",
          "2025-03-28T22:50:00",
          "2025-03-28T22:51:00",
          "2025-03-28T22:52:00",
          "2025-03-28T22:53:00",
          "2025-03-28T22:54:00",
          "2025-03-28T22:55:00",
          "2025-03-28T22:56:00",
          "2025-03-28T22:57:00",
          "2025-03-28T22:58:00",
          "2025-03-28T22:59:00",
          "2025-03-28T23:00:00",
          "2025-03-28T23:01:00",
          "2025-03-28T23:02:00",
          "2025-03-28T23:03:00",
          "2025-03-28T23:04:00",
          "2025-03-28T23:05:00",
          "2025-03-28T23:06:00",
          "2025-03-28T23:07:00",
          "2025-03-28T23:08:00",
          "2025-03-28T23:09:00",
          "2025-03-28T23:10:00",
          "2025-03-28T23:11:00",
          "2025-03-28T23:12:00",
          "2025-03-28T23:13:00",
          "2025-03-28T23:14:00",
          "2025-03-28T23:15:00",
          "2025-03-28T23:16:00",
          "2025-03-28T23:17:00",
          "2025-03-28T23:18:00",
          "2025-03-28T23:19:00",
          "2025-03-28T23:20:00",
          "2025-03-28T23:21:00",
          "2025-03-28T23:22:00",
          "2025-03-28T23:23:00",
          "2025-03-28T23:24:00",
          "2025-03-28T23:25:00",
          "2025-03-28T23:26:00",
          "2025-03-28T23:27:00",
          "2025-03-28T23:28:00",
          "2025-03-28T23:29:00",
          "2025-03-28T23:30:00",
          "2025-03-28T23:31:00",
          "2025-03-28T23:32:00",
          "2025-03-28T23:33:00",
          "2025-03-28T23:34:00",
          "2025-03-28T23:35:00",
          "2025-03-28T23:36:00",
          "2025-03-28T23:37:00",
          "2025-03-28T23:38:00",
          "2025-03-28T23:39:00",
          "2025-03-28T23:40:00",
          "2025-03-28T23:41:00",
          "2025-03-28T23:42:00",
          "2025-03-28T23:43:00",
          "2025-03-28T23:44:00",
          "2025-03-28T23:45:00",
          "2025-03-28T23:46:00",
          "2025-03-28T23:47:00",
          "2025-03-28T23:48:00",
          "2025-03-28T23:49:00",
          "2025-03-28T23:50:00",
          "2025-03-28T23:51:00",
          "2025-03-28T23:52:00",
          "2025-03-28T23:53:00",
          "2025-03-28T23:54:00",
          "2025-03-28T23:55:00",
          "2025-03-28T23:56:00",
          "2025-03-28T23:57:00",
          "2025-03-28T23:58:00",
          "2025-03-28T23:59:00"
         ],
         "xaxis": "x",
         "y": {
          "bdata": "AAAAAAAA+H8AAAAAAAD4fwAAAAAAAPh/AAAAAAAA+H8AAAAAAAD4fwAAAAAAAPh/AAAAAAAA+H8AAAAAAAD4fwAAAAAAAPh/AAAAAAAA+H8AAAAAAAD4fwAAAAAAAPh/AAAAAAAA+H8AAAAAAAD4fwAAAAAAAPh/AAAAAAAA+H8AAAAAAAD4fwAAAAAAAPh/AAAAAAAA+H+X/5B++yxrQJf/kH77LGtAl/+Qfvssa0DvOEVHci1rQO84RUdyLWtA7zhFR3Ita0DvOEVHci1rQO84RUdyLWtA7zhFR3Ita0DvOEVHci1rQO84RUdyLWtAvVKWIY4vakC9UpYhji9qQL1SliGOL2pAvVKWIY4vakC9UpYhji9qQL1SliGOL2pAvVKWIY4vakAlBoGVQ99pQCUGgZVD32lAJQaBlUPfaUAlBoGVQ99pQCUGgZVD32lAJQaBlUPfaUAlBoGVQ99pQCUGgZVD32lAJQaBlUPfaUAlBoGVQ99pQCUGgZVD32lAJQaBlUPfaUAlBoGVQ99pQCUGgZVD32lAJQaBlUPfaUAlBoGVQ99pQCUGgZVD32lAJQaBlUPfaUAlBoGVQ99pQCUGgZVD32lAJ6CJsOGJakAnoImw4YlqQCegibDhiWpAJ6CJsOGJakAnoImw4YlqQCegibDhiWpAJ6CJsOGJakArGJXUCQprQDY8vVKWLWtAPQrXo3Ata0A9CtejcC1rQD0K16NwLWtAPQrXo3Ata0A9CtejcC1rQD0K16NwLWtApHA9Ctcra0AK16NwPSprQArXo3A9KmtACtejcD0qa0AK16NwPSprQArXo3A9KmtACtejcD0qa0AK16NwPSprQArXo3A9KmtACtejcD0qa0AK16NwPSprQArXo3A9KmtACtejcD0qa0AK16NwPSprQArXo3A9KmtACtejcD0qa0AK16NwPSprQArXo3A9KmtACtejcD0qa0AK16NwPSprQArXo3A9KmtACtejcD0qa0AK16NwPSprQArXo3A9KmtACtejcD0qa0AK16NwPSprQArXo3A9KmtACtejcD0qa0AK16NwPSprQArXo3A9KmtACtejcD0qa0AK16NwPSprQArXo3A9KmtACtejcD0qa0AK16NwPSprQArXo3A9KmtACtejcD0qa0AK16NwPSprQArXo3A9KmtACtejcD0qa0AK16NwPSprQArXo3A9KmtACtejcD0qa0AN4C2QoCprQBSuR+F6LGtAFK5H4Xosa0AUrkfheixrQBSuR+F6LGtAFK5H4Xosa0AUrkfheixrQBSuR+F6LGtAFK5H4Xosa0AUrkfheixrQBSuR+F6LGtAFK5H4Xosa0DNzMzMzCxrQM3MzMzMLGtAzczMzMwsa0DNzMzMzCxrQM3MzMzMLGtAzczMzMwsa0DNzMzMzCxrQM3MzMzMLGtAzczMzMwsa0DNzMzMzCxrQM3MzMzMLGtAzczMzMwsa0DNzMzMzCxrQM3MzMzMLGtAzczMzMwsa0DNzMzMzCxrQM3MzMzMLGtAzczMzMwsa0DNzMzMzCxrQPYoXI/CLWtA9ihcj8Ita0D2KFyPwi1rQPYoXI/CLWtArkfhehQua0D0/dR46SxrQPT91HjpLGtA9P3UeOksa0D0/dR46SxrQPT91HjpLGtA9P3UeOksa0D0/dR46SxrQPT91HjpLGtA9P3UeOksa0D0/dR46SxrQPT91HjpLGtA9P3UeOksa0D0/dR46SxrQPT91HjpLGtA9P3UeOksa0D0/dR46SxrQM3MzMzMLGtAzczMzMwsa0DNzMzMzCxrQM3MzMzMLGtAzczMzMwsa0DNzMzMzCxrQM3MzMzMLGtAzczMzMwsa0DNzMzMzCxrQM3MzMzMLGtAzczMzMwsa0DNzMzMzCxrQM3MzMzMLGtAzczMzMwsa0DNzMzMzCxrQM3MzMzMLGtAzczMzMwsa0DNzMzMzCxrQM3MzMzMLGtAzczMzMwsa0DNzMzMzCxrQM3MzMzMLGtAzczMzMwsa0DNzMzMzCxrQM3MzMzMLGtAzczMzMwsa0DNzMzMzCxrQM3MzMzMLGtAzczMzMwsa0DNzMzMzCxrQM3MzMzMLGtAzczMzMwsa0DNzMzMzCxrQM3MzMzMLGtAzczMzMwsa0CamZmZmSlrQJqZmZmZKWtAcT0K16Moa0DDZKpgVChrQLgehetRKGtAuB6F61Eoa0C4HoXrUShrQLgehetRKGtAuB6F61Eoa0C4HoXrUShrQLgehetRKGtAuB6F61Eoa0C4HoXrUShrQLgehetRKGtAuB6F61Eoa0C4HoXrUShrQLgehetRKGtAuB6F61Eoa0C4HoXrUShrQEjhehSuJ2tArkfhehQma0A=",
          "dtype": "f8"
         },
         "yaxis": "y"
        },
        {
         "marker": {
          "color": "rgba(100, 100, 255, 0.4)"
         },
         "name": "Volume",
         "type": "bar",
         "x": [
          "2025-03-28T20:17:00",
          "2025-03-28T20:18:00",
          "2025-03-28T20:19:00",
          "2025-03-28T20:20:00",
          "2025-03-28T20:21:00",
          "2025-03-28T20:22:00",
          "2025-03-28T20:23:00",
          "2025-03-28T20:24:00",
          "2025-03-28T20:25:00",
          "2025-03-28T20:26:00",
          "2025-03-28T20:27:00",
          "2025-03-28T20:28:00",
          "2025-03-28T20:29:00",
          "2025-03-28T20:30:00",
          "2025-03-28T20:31:00",
          "2025-03-28T20:32:00",
          "2025-03-28T20:33:00",
          "2025-03-28T20:34:00",
          "2025-03-28T20:35:00",
          "2025-03-28T20:36:00",
          "2025-03-28T20:37:00",
          "2025-03-28T20:38:00",
          "2025-03-28T20:39:00",
          "2025-03-28T20:40:00",
          "2025-03-28T20:41:00",
          "2025-03-28T20:42:00",
          "2025-03-28T20:43:00",
          "2025-03-28T20:44:00",
          "2025-03-28T20:45:00",
          "2025-03-28T20:46:00",
          "2025-03-28T20:47:00",
          "2025-03-28T20:48:00",
          "2025-03-28T20:49:00",
          "2025-03-28T20:50:00",
          "2025-03-28T20:51:00",
          "2025-03-28T20:52:00",
          "2025-03-28T20:53:00",
          "2025-03-28T20:54:00",
          "2025-03-28T20:55:00",
          "2025-03-28T20:56:00",
          "2025-03-28T20:57:00",
          "2025-03-28T20:58:00",
          "2025-03-28T20:59:00",
          "2025-03-28T21:00:00",
          "2025-03-28T21:01:00",
          "2025-03-28T21:02:00",
          "2025-03-28T21:03:00",
          "2025-03-28T21:04:00",
          "2025-03-28T21:05:00",
          "2025-03-28T21:06:00",
          "2025-03-28T21:07:00",
          "2025-03-28T21:08:00",
          "2025-03-28T21:09:00",
          "2025-03-28T21:10:00",
          "2025-03-28T21:11:00",
          "2025-03-28T21:12:00",
          "2025-03-28T21:13:00",
          "2025-03-28T21:14:00",
          "2025-03-28T21:15:00",
          "2025-03-28T21:16:00",
          "2025-03-28T21:17:00",
          "2025-03-28T21:18:00",
          "2025-03-28T21:19:00",
          "2025-03-28T21:20:00",
          "2025-03-28T21:21:00",
          "2025-03-28T21:22:00",
          "2025-03-28T21:23:00",
          "2025-03-28T21:24:00",
          "2025-03-28T21:25:00",
          "2025-03-28T21:26:00",
          "2025-03-28T21:27:00",
          "2025-03-28T21:28:00",
          "2025-03-28T21:29:00",
          "2025-03-28T21:30:00",
          "2025-03-28T21:31:00",
          "2025-03-28T21:32:00",
          "2025-03-28T21:33:00",
          "2025-03-28T21:34:00",
          "2025-03-28T21:35:00",
          "2025-03-28T21:36:00",
          "2025-03-28T21:37:00",
          "2025-03-28T21:38:00",
          "2025-03-28T21:39:00",
          "2025-03-28T21:40:00",
          "2025-03-28T21:41:00",
          "2025-03-28T21:42:00",
          "2025-03-28T21:43:00",
          "2025-03-28T21:44:00",
          "2025-03-28T21:45:00",
          "2025-03-28T21:46:00",
          "2025-03-28T21:47:00",
          "2025-03-28T21:48:00",
          "2025-03-28T21:49:00",
          "2025-03-28T21:50:00",
          "2025-03-28T21:51:00",
          "2025-03-28T21:52:00",
          "2025-03-28T21:53:00",
          "2025-03-28T21:54:00",
          "2025-03-28T21:55:00",
          "2025-03-28T21:56:00",
          "2025-03-28T21:57:00",
          "2025-03-28T21:58:00",
          "2025-03-28T21:59:00",
          "2025-03-28T22:00:00",
          "2025-03-28T22:01:00",
          "2025-03-28T22:02:00",
          "2025-03-28T22:03:00",
          "2025-03-28T22:04:00",
          "2025-03-28T22:05:00",
          "2025-03-28T22:06:00",
          "2025-03-28T22:07:00",
          "2025-03-28T22:08:00",
          "2025-03-28T22:09:00",
          "2025-03-28T22:10:00",
          "2025-03-28T22:11:00",
          "2025-03-28T22:12:00",
          "2025-03-28T22:13:00",
          "2025-03-28T22:14:00",
          "2025-03-28T22:15:00",
          "2025-03-28T22:16:00",
          "2025-03-28T22:17:00",
          "2025-03-28T22:18:00",
          "2025-03-28T22:19:00",
          "2025-03-28T22:20:00",
          "2025-03-28T22:21:00",
          "2025-03-28T22:22:00",
          "2025-03-28T22:23:00",
          "2025-03-28T22:24:00",
          "2025-03-28T22:25:00",
          "2025-03-28T22:26:00",
          "2025-03-28T22:27:00",
          "2025-03-28T22:28:00",
          "2025-03-28T22:29:00",
          "2025-03-28T22:30:00",
          "2025-03-28T22:31:00",
          "2025-03-28T22:32:00",
          "2025-03-28T22:33:00",
          "2025-03-28T22:34:00",
          "2025-03-28T22:35:00",
          "2025-03-28T22:36:00",
          "2025-03-28T22:37:00",
          "2025-03-28T22:38:00",
          "2025-03-28T22:39:00",
          "2025-03-28T22:40:00",
          "2025-03-28T22:41:00",
          "2025-03-28T22:42:00",
          "2025-03-28T22:43:00",
          "2025-03-28T22:44:00",
          "2025-03-28T22:45:00",
          "2025-03-28T22:46:00",
          "2025-03-28T22:47:00",
          "2025-03-28T22:48:00",
          "2025-03-28T22:49:00",
          "2025-03-28T22:50:00",
          "2025-03-28T22:51:00",
          "2025-03-28T22:52:00",
          "2025-03-28T22:53:00",
          "2025-03-28T22:54:00",
          "2025-03-28T22:55:00",
          "2025-03-28T22:56:00",
          "2025-03-28T22:57:00",
          "2025-03-28T22:58:00",
          "2025-03-28T22:59:00",
          "2025-03-28T23:00:00",
          "2025-03-28T23:01:00",
          "2025-03-28T23:02:00",
          "2025-03-28T23:03:00",
          "2025-03-28T23:04:00",
          "2025-03-28T23:05:00",
          "2025-03-28T23:06:00",
          "2025-03-28T23:07:00",
          "2025-03-28T23:08:00",
          "2025-03-28T23:09:00",
          "2025-03-28T23:10:00",
          "2025-03-28T23:11:00",
          "2025-03-28T23:12:00",
          "2025-03-28T23:13:00",
          "2025-03-28T23:14:00",
          "2025-03-28T23:15:00",
          "2025-03-28T23:16:00",
          "2025-03-28T23:17:00",
          "2025-03-28T23:18:00",
          "2025-03-28T23:19:00",
          "2025-03-28T23:20:00",
          "2025-03-28T23:21:00",
          "2025-03-28T23:22:00",
          "2025-03-28T23:23:00",
          "2025-03-28T23:24:00",
          "2025-03-28T23:25:00",
          "2025-03-28T23:26:00",
          "2025-03-28T23:27:00",
          "2025-03-28T23:28:00",
          "2025-03-28T23:29:00",
          "2025-03-28T23:30:00",
          "2025-03-28T23:31:00",
          "2025-03-28T23:32:00",
          "2025-03-28T23:33:00",
          "2025-03-28T23:34:00",
          "2025-03-28T23:35:00",
          "2025-03-28T23:36:00",
          "2025-03-28T23:37:00",
          "2025-03-28T23:38:00",
          "2025-03-28T23:39:00",
          "2025-03-28T23:40:00",
          "2025-03-28T23:41:00",
          "2025-03-28T23:42:00",
          "2025-03-28T23:43:00",
          "2025-03-28T23:44:00",
          "2025-03-28T23:45:00",
          "2025-03-28T23:46:00",
          "2025-03-28T23:47:00",
          "2025-03-28T23:48:00",
          "2025-03-28T23:49:00",
          "2025-03-28T23:50:00",
          "2025-03-28T23:51:00",
          "2025-03-28T23:52:00",
          "2025-03-28T23:53:00",
          "2025-03-28T23:54:00",
          "2025-03-28T23:55:00",
          "2025-03-28T23:56:00",
          "2025-03-28T23:57:00",
          "2025-03-28T23:58:00",
          "2025-03-28T23:59:00"
         ],
         "xaxis": "x2",
         "y": {
          "bdata": "mAQAACYbAADYCwAA9pcAABEDAABCAAAAHAYAACIAAAChAgAAkgMAAOwJAADICQAADAUAABsCAABdAAAAqQIAAC4RAADpNAAA0wAAAMwDAAD4EQAAnAUAAPoTAAClAQAAXSIBAOoBAABXAQAAOAYAALQAAACNAAAAngAAAKACAABxBAAAfAAAADEBAAAHBAAADQMAAHoJAACeFwAAdwUAACgFAAAJBwAAMA4AADIDAAAXAQAAZgEAAJwAAABKAAAAAgIAAB4AAACaAAAA6gEAAH4AAADzAgAANQAAAH0BAAADDAAAhwcAAHkBAAAZAQAAEgAAANoCAAAgAAAA6AAAADsBAAAcAAAAYQMAAB8CAAArAAAApgIAAIsBAAAUAAAAxgEAAIkJAABWAAAAvAAAADUBAACcAAAAawAAAP8AAAC5BwAACAAAAKgBAAA0AAAAuwAAAKkAAAAtAAAABgEAAKIBAACJAAAAggAAAMUCAADlAAAAvwAAADAAAADpAQAAkAAAAF4BAABZAAAAFgAAABUAAAALAAAAhAMAAAIAAAArAAAAawAAAEYEAAC+CwAAJwAAAAsAAAAbAAAAEQAAAIEAAAAOAAAArQEAADUAAAAiAAAAtwAAAGoAAAAhAAAAMgAAADEAAAATAAAARwAAABkAAAD4AQAAGQAAAD4AAADXAQAA1QMAABYTAABYAAAAeQAAACYAAAChAAAAVgAAACkAAACgAAAAVQAAAF0PAABsAAAApAAAAGkAAAAJAAAAaAEAAAMAAABrAAAALAAAAEEAAAD1AAAADgAAAC4AAAD1AQAARQAAAAMAAAACAAAAHwAAAO4DAAAeAAAAIgAAAJ4AAABsAAAAEQAAACgAAABmAAAALgAAAG8AAADOAAAAMAAAAEYAAAACAgAAIwAAAAYAAABxAAAASQAAAFcAAAAqAAAAVAAAAN4AAACEAAAANwAAADIAAAA2AAAAxgAAABIAAACTAAAAVQAAAFkAAAACAAAA4wEAALEBAAB8AAAAkgAAAEgAAABBAAAAKgAAAGEAAABUAQAAxgQAALEAAABBAAAALgAAAPQEAAAUAAAAtAIAAMcPAAD4AAAAFQAAAMsAAACoAAAARQEAAAwCAAApAAAAVQYAAJsAAADTAAAAfQAAAN4AAABDAAAA9gAAAFECAAD8AAAACggAAA==",
          "dtype": "i4"
         },
         "yaxis": "y2"
        }
       ],
       "layout": {
        "height": 800,
        "hovermode": "x unified",
        "showlegend": true,
        "template": {
         "data": {
          "bar": [
           {
            "error_x": {
             "color": "#2a3f5f"
            },
            "error_y": {
             "color": "#2a3f5f"
            },
            "marker": {
             "line": {
              "color": "white",
              "width": 0.5
             },
             "pattern": {
              "fillmode": "overlay",
              "size": 10,
              "solidity": 0.2
             }
            },
            "type": "bar"
           }
          ],
          "barpolar": [
           {
            "marker": {
             "line": {
              "color": "white",
              "width": 0.5
             },
             "pattern": {
              "fillmode": "overlay",
              "size": 10,
              "solidity": 0.2
             }
            },
            "type": "barpolar"
           }
          ],
          "carpet": [
           {
            "aaxis": {
             "endlinecolor": "#2a3f5f",
             "gridcolor": "#C8D4E3",
             "linecolor": "#C8D4E3",
             "minorgridcolor": "#C8D4E3",
             "startlinecolor": "#2a3f5f"
            },
            "baxis": {
             "endlinecolor": "#2a3f5f",
             "gridcolor": "#C8D4E3",
             "linecolor": "#C8D4E3",
             "minorgridcolor": "#C8D4E3",
             "startlinecolor": "#2a3f5f"
            },
            "type": "carpet"
           }
          ],
          "choropleth": [
           {
            "colorbar": {
             "outlinewidth": 0,
             "ticks": ""
            },
            "type": "choropleth"
           }
          ],
          "contour": [
           {
            "colorbar": {
             "outlinewidth": 0,
             "ticks": ""
            },
            "colorscale": [
             [
              0,
              "#0d0887"
             ],
             [
              0.1111111111111111,
              "#46039f"
             ],
             [
              0.2222222222222222,
              "#7201a8"
             ],
             [
              0.3333333333333333,
              "#9c179e"
             ],
             [
              0.4444444444444444,
              "#bd3786"
             ],
             [
              0.5555555555555556,
              "#d8576b"
             ],
             [
              0.6666666666666666,
              "#ed7953"
             ],
             [
              0.7777777777777778,
              "#fb9f3a"
             ],
             [
              0.8888888888888888,
              "#fdca26"
             ],
             [
              1,
              "#f0f921"
             ]
            ],
            "type": "contour"
           }
          ],
          "contourcarpet": [
           {
            "colorbar": {
             "outlinewidth": 0,
             "ticks": ""
            },
            "type": "contourcarpet"
           }
          ],
          "heatmap": [
           {
            "colorbar": {
             "outlinewidth": 0,
             "ticks": ""
            },
            "colorscale": [
             [
              0,
              "#0d0887"
             ],
             [
              0.1111111111111111,
              "#46039f"
             ],
             [
              0.2222222222222222,
              "#7201a8"
             ],
             [
              0.3333333333333333,
              "#9c179e"
             ],
             [
              0.4444444444444444,
              "#bd3786"
             ],
             [
              0.5555555555555556,
              "#d8576b"
             ],
             [
              0.6666666666666666,
              "#ed7953"
             ],
             [
              0.7777777777777778,
              "#fb9f3a"
             ],
             [
              0.8888888888888888,
              "#fdca26"
             ],
             [
              1,
              "#f0f921"
             ]
            ],
            "type": "heatmap"
           }
          ],
          "histogram": [
           {
            "marker": {
             "pattern": {
              "fillmode": "overlay",
              "size": 10,
              "solidity": 0.2
             }
            },
            "type": "histogram"
           }
          ],
          "histogram2d": [
           {
            "colorbar": {
             "outlinewidth": 0,
             "ticks": ""
            },
            "colorscale": [
             [
              0,
              "#0d0887"
             ],
             [
              0.1111111111111111,
              "#46039f"
             ],
             [
              0.2222222222222222,
              "#7201a8"
             ],
             [
              0.3333333333333333,
              "#9c179e"
             ],
             [
              0.4444444444444444,
              "#bd3786"
             ],
             [
              0.5555555555555556,
              "#d8576b"
             ],
             [
              0.6666666666666666,
              "#ed7953"
             ],
             [
              0.7777777777777778,
              "#fb9f3a"
             ],
             [
              0.8888888888888888,
              "#fdca26"
             ],
             [
              1,
              "#f0f921"
             ]
            ],
            "type": "histogram2d"
           }
          ],
          "histogram2dcontour": [
           {
            "colorbar": {
             "outlinewidth": 0,
             "ticks": ""
            },
            "colorscale": [
             [
              0,
              "#0d0887"
             ],
             [
              0.1111111111111111,
              "#46039f"
             ],
             [
              0.2222222222222222,
              "#7201a8"
             ],
             [
              0.3333333333333333,
              "#9c179e"
             ],
             [
              0.4444444444444444,
              "#bd3786"
             ],
             [
              0.5555555555555556,
              "#d8576b"
             ],
             [
              0.6666666666666666,
              "#ed7953"
             ],
             [
              0.7777777777777778,
              "#fb9f3a"
             ],
             [
              0.8888888888888888,
              "#fdca26"
             ],
             [
              1,
              "#f0f921"
             ]
            ],
            "type": "histogram2dcontour"
           }
          ],
          "mesh3d": [
           {
            "colorbar": {
             "outlinewidth": 0,
             "ticks": ""
            },
            "type": "mesh3d"
           }
          ],
          "parcoords": [
           {
            "line": {
             "colorbar": {
              "outlinewidth": 0,
              "ticks": ""
             }
            },
            "type": "parcoords"
           }
          ],
          "pie": [
           {
            "automargin": true,
            "type": "pie"
           }
          ],
          "scatter": [
           {
            "fillpattern": {
             "fillmode": "overlay",
             "size": 10,
             "solidity": 0.2
            },
            "type": "scatter"
           }
          ],
          "scatter3d": [
           {
            "line": {
             "colorbar": {
              "outlinewidth": 0,
              "ticks": ""
             }
            },
            "marker": {
             "colorbar": {
              "outlinewidth": 0,
              "ticks": ""
             }
            },
            "type": "scatter3d"
           }
          ],
          "scattercarpet": [
           {
            "marker": {
             "colorbar": {
              "outlinewidth": 0,
              "ticks": ""
             }
            },
            "type": "scattercarpet"
           }
          ],
          "scattergeo": [
           {
            "marker": {
             "colorbar": {
              "outlinewidth": 0,
              "ticks": ""
             }
            },
            "type": "scattergeo"
           }
          ],
          "scattergl": [
           {
            "marker": {
             "colorbar": {
              "outlinewidth": 0,
              "ticks": ""
             }
            },
            "type": "scattergl"
           }
          ],
          "scattermap": [
           {
            "marker": {
             "colorbar": {
              "outlinewidth": 0,
              "ticks": ""
             }
            },
            "type": "scattermap"
           }
          ],
          "scattermapbox": [
           {
            "marker": {
             "colorbar": {
              "outlinewidth": 0,
              "ticks": ""
             }
            },
            "type": "scattermapbox"
           }
          ],
          "scatterpolar": [
           {
            "marker": {
             "colorbar": {
              "outlinewidth": 0,
              "ticks": ""
             }
            },
            "type": "scatterpolar"
           }
          ],
          "scatterpolargl": [
           {
            "marker": {
             "colorbar": {
              "outlinewidth": 0,
              "ticks": ""
             }
            },
            "type": "scatterpolargl"
           }
          ],
          "scatterternary": [
           {
            "marker": {
             "colorbar": {
              "outlinewidth": 0,
              "ticks": ""
             }
            },
            "type": "scatterternary"
           }
          ],
          "surface": [
           {
            "colorbar": {
             "outlinewidth": 0,
             "ticks": ""
            },
            "colorscale": [
             [
              0,
              "#0d0887"
             ],
             [
              0.1111111111111111,
              "#46039f"
             ],
             [
              0.2222222222222222,
              "#7201a8"
             ],
             [
              0.3333333333333333,
              "#9c179e"
             ],
             [
              0.4444444444444444,
              "#bd3786"
             ],
             [
              0.5555555555555556,
              "#d8576b"
             ],
             [
              0.6666666666666666,
              "#ed7953"
             ],
             [
              0.7777777777777778,
              "#fb9f3a"
             ],
             [
              0.8888888888888888,
              "#fdca26"
             ],
             [
              1,
              "#f0f921"
             ]
            ],
            "type": "surface"
           }
          ],
          "table": [
           {
            "cells": {
             "fill": {
              "color": "#EBF0F8"
             },
             "line": {
              "color": "white"
             }
            },
            "header": {
             "fill": {
              "color": "#C8D4E3"
             },
             "line": {
              "color": "white"
             }
            },
            "type": "table"
           }
          ]
         },
         "layout": {
          "annotationdefaults": {
           "arrowcolor": "#2a3f5f",
           "arrowhead": 0,
           "arrowwidth": 1
          },
          "autotypenumbers": "strict",
          "coloraxis": {
           "colorbar": {
            "outlinewidth": 0,
            "ticks": ""
           }
          },
          "colorscale": {
           "diverging": [
            [
             0,
             "#8e0152"
            ],
            [
             0.1,
             "#c51b7d"
            ],
            [
             0.2,
             "#de77ae"
            ],
            [
             0.3,
             "#f1b6da"
            ],
            [
             0.4,
             "#fde0ef"
            ],
            [
             0.5,
             "#f7f7f7"
            ],
            [
             0.6,
             "#e6f5d0"
            ],
            [
             0.7,
             "#b8e186"
            ],
            [
             0.8,
             "#7fbc41"
            ],
            [
             0.9,
             "#4d9221"
            ],
            [
             1,
             "#276419"
            ]
           ],
           "sequential": [
            [
             0,
             "#0d0887"
            ],
            [
             0.1111111111111111,
             "#46039f"
            ],
            [
             0.2222222222222222,
             "#7201a8"
            ],
            [
             0.3333333333333333,
             "#9c179e"
            ],
            [
             0.4444444444444444,
             "#bd3786"
            ],
            [
             0.5555555555555556,
             "#d8576b"
            ],
            [
             0.6666666666666666,
             "#ed7953"
            ],
            [
             0.7777777777777778,
             "#fb9f3a"
            ],
            [
             0.8888888888888888,
             "#fdca26"
            ],
            [
             1,
             "#f0f921"
            ]
           ],
           "sequentialminus": [
            [
             0,
             "#0d0887"
            ],
            [
             0.1111111111111111,
             "#46039f"
            ],
            [
             0.2222222222222222,
             "#7201a8"
            ],
            [
             0.3333333333333333,
             "#9c179e"
            ],
            [
             0.4444444444444444,
             "#bd3786"
            ],
            [
             0.5555555555555556,
             "#d8576b"
            ],
            [
             0.6666666666666666,
             "#ed7953"
            ],
            [
             0.7777777777777778,
             "#fb9f3a"
            ],
            [
             0.8888888888888888,
             "#fdca26"
            ],
            [
             1,
             "#f0f921"
            ]
           ]
          },
          "colorway": [
           "#636efa",
           "#EF553B",
           "#00cc96",
           "#ab63fa",
           "#FFA15A",
           "#19d3f3",
           "#FF6692",
           "#B6E880",
           "#FF97FF",
           "#FECB52"
          ],
          "font": {
           "color": "#2a3f5f"
          },
          "geo": {
           "bgcolor": "white",
           "lakecolor": "white",
           "landcolor": "white",
           "showlakes": true,
           "showland": true,
           "subunitcolor": "#C8D4E3"
          },
          "hoverlabel": {
           "align": "left"
          },
          "hovermode": "closest",
          "mapbox": {
           "style": "light"
          },
          "paper_bgcolor": "white",
          "plot_bgcolor": "white",
          "polar": {
           "angularaxis": {
            "gridcolor": "#EBF0F8",
            "linecolor": "#EBF0F8",
            "ticks": ""
           },
           "bgcolor": "white",
           "radialaxis": {
            "gridcolor": "#EBF0F8",
            "linecolor": "#EBF0F8",
            "ticks": ""
           }
          },
          "scene": {
           "xaxis": {
            "backgroundcolor": "white",
            "gridcolor": "#DFE8F3",
            "gridwidth": 2,
            "linecolor": "#EBF0F8",
            "showbackground": true,
            "ticks": "",
            "zerolinecolor": "#EBF0F8"
           },
           "yaxis": {
            "backgroundcolor": "white",
            "gridcolor": "#DFE8F3",
            "gridwidth": 2,
            "linecolor": "#EBF0F8",
            "showbackground": true,
            "ticks": "",
            "zerolinecolor": "#EBF0F8"
           },
           "zaxis": {
            "backgroundcolor": "white",
            "gridcolor": "#DFE8F3",
            "gridwidth": 2,
            "linecolor": "#EBF0F8",
            "showbackground": true,
            "ticks": "",
            "zerolinecolor": "#EBF0F8"
           }
          },
          "shapedefaults": {
           "line": {
            "color": "#2a3f5f"
           }
          },
          "ternary": {
           "aaxis": {
            "gridcolor": "#DFE8F3",
            "linecolor": "#A2B1C6",
            "ticks": ""
           },
           "baxis": {
            "gridcolor": "#DFE8F3",
            "linecolor": "#A2B1C6",
            "ticks": ""
           },
           "bgcolor": "white",
           "caxis": {
            "gridcolor": "#DFE8F3",
            "linecolor": "#A2B1C6",
            "ticks": ""
           }
          },
          "title": {
           "x": 0.05
          },
          "xaxis": {
           "automargin": true,
           "gridcolor": "#EBF0F8",
           "linecolor": "#EBF0F8",
           "ticks": "",
           "title": {
            "standoff": 15
           },
           "zerolinecolor": "#EBF0F8",
           "zerolinewidth": 2
          },
          "yaxis": {
           "automargin": true,
           "gridcolor": "#EBF0F8",
           "linecolor": "#EBF0F8",
           "ticks": "",
           "title": {
            "standoff": 15
           },
           "zerolinecolor": "#EBF0F8",
           "zerolinewidth": 2
          }
         }
        },
        "title": {
         "text": "AAPL with VWAP & Donchian Channels (Interactive)"
        },
        "xaxis": {
         "anchor": "y",
         "domain": [
          0,
          1
         ],
         "matches": "x2",
         "rangeselector": {
          "buttons": [
           {
            "count": 15,
            "label": "15m",
            "step": "minute",
            "stepmode": "backward"
           },
           {
            "count": 1,
            "label": "1h",
            "step": "hour",
            "stepmode": "backward"
           },
           {
            "count": 4,
            "label": "4h",
            "step": "hour",
            "stepmode": "backward"
           },
           {
            "step": "all"
           }
          ]
         },
         "rangeslider": {
          "visible": false
         },
         "showticklabels": false
        },
        "xaxis2": {
         "anchor": "y2",
         "domain": [
          0,
          1
         ],
         "rangeselector": {
          "buttons": [
           {
            "count": 15,
            "label": "15m",
            "step": "minute",
            "stepmode": "backward"
           },
           {
            "count": 1,
            "label": "1h",
            "step": "hour",
            "stepmode": "backward"
           },
           {
            "count": 4,
            "label": "4h",
            "step": "hour",
            "stepmode": "backward"
           },
           {
            "step": "all"
           }
          ]
         }
        },
        "yaxis": {
         "anchor": "x",
         "domain": [
          0.33499999999999996,
          0.9999999999999999
         ],
         "title": {
          "text": "Price ($)"
         }
        },
        "yaxis2": {
         "anchor": "x2",
         "domain": [
          0,
          0.285
         ],
         "title": {
          "text": "Volume"
         }
        }
       }
      }
     },
     "metadata": {},
     "output_type": "display_data"
    }
   ],
   "source": [
    "import plotly.graph_objects as go\n",
    "from plotly.subplots import make_subplots\n",
    "\n",
    "# Create subplots with shared x-axis\n",
    "fig = make_subplots(rows=2, cols=1, shared_xaxes=True, \n",
    "                   vertical_spacing=0.05,\n",
    "                   row_heights=[0.7, 0.3])\n",
    "\n",
    "# 1. Candlestick plot with VWAP and Donchian Channels\n",
    "fig.add_trace(go.Candlestick(x=ohlc.index,\n",
    "                            open=ohlc['Open'],\n",
    "                            high=ohlc['High'],\n",
    "                            low=ohlc['Low'],\n",
    "                            close=ohlc['Close'],\n",
    "                            name='AAPL',\n",
    "                            increasing_line_color='green',\n",
    "                            decreasing_line_color='red'), row=1, col=1)\n",
    "\n",
    "# Add VWAP\n",
    "fig.add_trace(go.Scatter(x=ohlc.index,\n",
    "                        y=ohlc['VWAP'],\n",
    "                        line=dict(color='cyan', width=2),\n",
    "                        name='VWAP'), row=1, col=1)\n",
    "\n",
    "# Add Donchian Channels\n",
    "fig.add_trace(go.Scatter(x=ohlc.index,\n",
    "                        y=ohlc['Donchian_High'],\n",
    "                        line=dict(color='blue', width=1, dash='dot'),\n",
    "                        name='Donchian High'), row=1, col=1)\n",
    "\n",
    "fig.add_trace(go.Scatter(x=ohlc.index,\n",
    "                        y=ohlc['Donchian_Low'],\n",
    "                        line=dict(color='blue', width=1, dash='dot'),\n",
    "                        name='Donchian Low'), row=1, col=1)\n",
    "\n",
    "# 2. Volume plot\n",
    "fig.add_trace(go.Bar(x=ohlc.index,\n",
    "                    y=ohlc['Volume'],\n",
    "                    name='Volume',\n",
    "                    marker_color='rgba(100, 100, 255, 0.4)'), row=2, col=1)\n",
    "\n",
    "# Update layout\n",
    "fig.update_layout(\n",
    "    title='AAPL with VWAP & Donchian Channels (Interactive)',\n",
    "    xaxis_rangeslider_visible=False,\n",
    "    height=800,\n",
    "    hovermode='x unified',\n",
    "    showlegend=True,\n",
    "    template='plotly_white'  # Try 'plotly_white' for light mode\n",
    ")\n",
    "\n",
    "# Configure axes\n",
    "fig.update_yaxes(title_text=\"Price ($)\", row=1, col=1)\n",
    "fig.update_yaxes(title_text=\"Volume\", row=2, col=1)\n",
    "\n",
    "# Add range selector buttons\n",
    "fig.update_xaxes(\n",
    "    rangeselector=dict(\n",
    "        buttons=([\n",
    "            dict(count=15, label=\"15m\", step=\"minute\", stepmode=\"backward\"),\n",
    "            dict(count=1, label=\"1h\", step=\"hour\", stepmode=\"backward\"),\n",
    "            dict(count=4, label=\"4h\", step=\"hour\", stepmode=\"backward\"),\n",
    "            dict(step=\"all\")\n",
    "        ])\n",
    "    )\n",
    ")\n",
    "\n",
    "fig.show()"
   ]
  },
  {
   "cell_type": "code",
   "execution_count": null,
   "metadata": {},
   "outputs": [],
   "source": []
  }
 ],
 "metadata": {
  "kernelspec": {
   "display_name": "Python 3",
   "language": "python",
   "name": "python3"
  },
  "language_info": {
   "codemirror_mode": {
    "name": "ipython",
    "version": 3
   },
   "file_extension": ".py",
   "mimetype": "text/x-python",
   "name": "python",
   "nbconvert_exporter": "python",
   "pygments_lexer": "ipython3",
   "version": "3.12.7"
  }
 },
 "nbformat": 4,
 "nbformat_minor": 2
}
